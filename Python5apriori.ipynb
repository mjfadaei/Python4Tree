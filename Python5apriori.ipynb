{
  "nbformat": 4,
  "nbformat_minor": 0,
  "metadata": {
    "colab": {
      "name": "Python5apriori.ipynb",
      "provenance": [],
      "collapsed_sections": [],
      "authorship_tag": "ABX9TyMQsoyW2II4KLCGRUEfW2r6",
      "include_colab_link": true
    },
    "kernelspec": {
      "name": "python3",
      "display_name": "Python 3"
    },
    "language_info": {
      "name": "python"
    }
  },
  "cells": [
    {
      "cell_type": "markdown",
      "metadata": {
        "id": "view-in-github",
        "colab_type": "text"
      },
      "source": [
        "<a href=\"https://colab.research.google.com/github/mjfadaei/Python4Tree/blob/main/Python5apriori.ipynb\" target=\"_parent\"><img src=\"https://colab.research.google.com/assets/colab-badge.svg\" alt=\"Open In Colab\"/></a>"
      ]
    },
    {
      "cell_type": "markdown",
      "source": [
        "Installation"
      ],
      "metadata": {
        "id": "Iw8PTRoVbFPF"
      }
    },
    {
      "cell_type": "code",
      "source": [
        "!pip install efficient_apriori"
      ],
      "metadata": {
        "colab": {
          "base_uri": "https://localhost:8080/"
        },
        "id": "zKr_vq59YDkx",
        "outputId": "85f43840-873e-43ab-eea4-d1ec0115fa9f"
      },
      "execution_count": 4,
      "outputs": [
        {
          "output_type": "stream",
          "name": "stdout",
          "text": [
            "Requirement already satisfied: efficient_apriori in /usr/local/lib/python3.7/dist-packages (2.0.1)\n"
          ]
        }
      ]
    },
    {
      "cell_type": "markdown",
      "source": [
        "A minimal working example"
      ],
      "metadata": {
        "id": "imuQDlLTbAqj"
      }
    },
    {
      "cell_type": "code",
      "execution_count": null,
      "metadata": {
        "id": "so_c0H6hXDk2"
      },
      "outputs": [],
      "source": [
        "from efficient_apriori import apriori\n",
        "transactions = [('eggs', 'milk', 'soup'),\n",
        "                ('eggs', 'milk', 'apple'),\n",
        "                ('soup', 'milk', 'banana')]\n",
        "print(type(transactions))                \n",
        "transactions = [(1, 3, 2),\n",
        "                (1, 3, 5),\n",
        "                (2, 3, 4)]\n",
        "itemsets, rules = apriori(transactions, min_support=0.5,  min_confidence=1)\n",
        "print(itemsets)\n",
        "print(\"type of itemsets data structure:\", type(itemsets))\n",
        "print('-----------------------------------')\n",
        "print(rules)\n",
        "print(\"type of rules data structure: \",  type(rules))"
      ]
    },
    {
      "cell_type": "markdown",
      "source": [
        "Filtering and sorting association rules"
      ],
      "metadata": {
        "id": "k10pYKeHZyJ1"
      }
    },
    {
      "cell_type": "code",
      "source": [
        "from efficient_apriori import apriori\n",
        "transactions = [('eggs', 'milk', 'soup'),\n",
        "                ('eggs', 'milk', 'apple'),\n",
        "                ('soup', 'milk', 'banana')]\n",
        "itemsets, rules = apriori(transactions, min_support=0.2,  min_confidence=1)\n",
        "print(itemsets)\n",
        "print(rules)\n",
        "print('------------------------------')\n",
        "\n",
        "print(\" Print out every rule with 2 items on the left hand side,\")\n",
        "print(\" 1 item on the right hand side, sorted by lift\")\n",
        "rules_rhs = filter(lambda rule: len(rule.lhs) == 2 and len(rule.rhs) == 1, rules)\n",
        "for rule in sorted(rules_rhs, key=lambda rule: rule.lift):\n",
        "  print(rule) # Prints the rule and its confidence, support, lift, ..."
      ],
      "metadata": {
        "id": "3X_mWVIMZkF6"
      },
      "execution_count": null,
      "outputs": []
    },
    {
      "cell_type": "markdown",
      "source": [
        "Working with mushroom dataset"
      ],
      "metadata": {
        "id": "Y9r--NdKcKGZ"
      }
    },
    {
      "cell_type": "code",
      "source": [
        "from google.colab import drive\n",
        "drive.mount('/content/drive')\n",
        "with open('/content/drive/My Drive/mushroom.dat', 'r') as f: \n",
        "  data = f.read()\n",
        "# -------------\n",
        "datalist = []\n",
        "stripped_line = data.split('\\n')\n",
        "print(len(stripped_line))\n",
        "for line in stripped_line:\n",
        "  datalist.append( list((line.strip()).split(' ')) )\n",
        "# -------------\n",
        "itemsets, rules = apriori(datalist, min_support=0.9, min_confidence=0.9)\n",
        "print(itemsets)\n",
        "print(rules)"
      ],
      "metadata": {
        "id": "TDYuKVBLcK2D"
      },
      "execution_count": null,
      "outputs": []
    }
  ]
}