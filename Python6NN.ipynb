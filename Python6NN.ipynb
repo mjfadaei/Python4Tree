{
  "nbformat": 4,
  "nbformat_minor": 0,
  "metadata": {
    "colab": {
      "name": "Python6NN.ipynb",
      "provenance": [],
      "collapsed_sections": [],
      "authorship_tag": "ABX9TyN2Vc5WJOXcwg7OceGy7/uJ",
      "include_colab_link": true
    },
    "kernelspec": {
      "name": "python3",
      "display_name": "Python 3"
    },
    "language_info": {
      "name": "python"
    }
  },
  "cells": [
    {
      "cell_type": "markdown",
      "metadata": {
        "id": "view-in-github",
        "colab_type": "text"
      },
      "source": [
        "<a href=\"https://colab.research.google.com/github/mjfadaei/PythonML/blob/main/Python6NN.ipynb\" target=\"_parent\"><img src=\"https://colab.research.google.com/assets/colab-badge.svg\" alt=\"Open In Colab\"/></a>"
      ]
    },
    {
      "cell_type": "code",
      "execution_count": null,
      "metadata": {
        "id": "v5S6KbF4vSc_"
      },
      "outputs": [],
      "source": [
        "# First neural network (Perceptron) with keras tutorial\n",
        "from numpy import loadtxt\n",
        "import numpy as np\n",
        "from keras.models import Sequential\n",
        "from keras.layers import Dense\n",
        "import matplotlib.pyplot as plt\n",
        "from mlxtend.plotting import plot_decision_regions\n",
        "# ---------------------\n",
        "# load the dataset\n",
        "from google.colab import drive\n",
        "drive.mount('/content/drive')\n",
        "dataset = loadtxt('/content/drive/My Drive/cuekoodataset.txt', delimiter=',')\n",
        "# split into input (X) and output (y) variables\n",
        "X = dataset[:,1:3]\n",
        "y = dataset[:,0]\n",
        "colors = np.zeros(100)\n",
        "colors[50:100] = 1\n",
        "plt.scatter(X[:,0], X[:,1], c=colors)\n",
        "plt.show()\n",
        "# ---------------------\n",
        "# define the keras model\n",
        "model = Sequential()\n",
        "model.add(Dense(1, input_dim=2, activation='sigmoid'))\n",
        "print(model.summary())\n",
        "model.compile(loss='mse', optimizer='sgd', metrics=['accuracy'])\n",
        "# ---------------------\n",
        "# fit the keras model on the dataset\n",
        "model.fit(X, y, epochs=500)\n",
        "# evaluate the keras model\n",
        "_, accuracy = model.evaluate(X, y)\n",
        "print('Accuracy: %.2f' % (accuracy*100))\n",
        "y = y.astype(int)\n",
        "plot_decision_regions(X, y, clf=model, legend=2)\n",
        "plt.show()\n",
        "for layer in model.layers: \n",
        "  print(layer.get_weights())"
      ]
    },
    {
      "cell_type": "code",
      "execution_count": null,
      "metadata": {
        "id": "MZRR0DnVsCLO"
      },
      "outputs": [],
      "source": [
        "# Second neural network (MLP) with keras tutorial\n",
        "from numpy import loadtxt\n",
        "import numpy as np\n",
        "from keras.models import Sequential\n",
        "from keras.layers import Dense\n",
        "import matplotlib.pyplot as plt\n",
        "from mlxtend.plotting import plot_decision_regions\n",
        "# ---------------------\n",
        "# load the dataset\n",
        "from google.colab import drive\n",
        "drive.mount('/content/drive')\n",
        "dataset = loadtxt('/content/drive/My Drive/cuekoodataset.txt', delimiter=',')\n",
        "# split into input (X) and output (y) variables\n",
        "X = dataset[:,1:3]\n",
        "y = dataset[:,0]\n",
        "colors = np.zeros(100)\n",
        "colors[50:100] = 1\n",
        "plt.scatter(X[:,0], X[:,1], c=colors)\n",
        "plt.show()\n",
        "# ---------------------\n",
        "# define the keras model\n",
        "model = Sequential()\n",
        "model.add(Dense(4, input_dim=2, activation='sigmoid'))\n",
        "model.add(Dense(4, input_dim=4, activation='sigmoid'))\n",
        "model.add(Dense(1, activation='sigmoid'))\n",
        "print(model.summary())\n",
        "model.compile(loss='mse', optimizer='adam', metrics=['accuracy'])\n",
        "# ---------------------\n",
        "# fit the keras model on the dataset\n",
        "model.fit(X, y, epochs=500)\n",
        "# evaluate the keras model\n",
        "_, accuracy = model.evaluate(X, y)\n",
        "print('Accuracy: %.2f' % (accuracy*100))\n",
        "y = y.astype(int)\n",
        "plot_decision_regions(X, y, clf=model, legend=2)\n",
        "plt.show()\n",
        "for layer in model.layers: \n",
        "  print(layer.get_weights())"
      ]
    },
    {
      "cell_type": "code",
      "execution_count": null,
      "metadata": {
        "id": "UdtlYMi2pz_P"
      },
      "outputs": [],
      "source": [
        "# Third neural network (MLP) with keras tutorial\n",
        "from numpy import loadtxt\n",
        "from keras.models import Sequential\n",
        "from keras.layers import Dense\n",
        "# load the dataset\n",
        "from google.colab import drive\n",
        "drive.mount('/content/drive')\n",
        "dataset = loadtxt('/content/drive/My Drive/pima-indians-diabetes.csv', delimiter=',')\n",
        "# split into input (X) and output (y) variables\n",
        "X = dataset[:,0:8]\n",
        "y = dataset[:,8]\n",
        "# define the keras model\n",
        "model = Sequential()\n",
        "model.add(Dense(12, input_dim=8, activation='relu'))\n",
        "model.add(Dense(8, activation='relu'))\n",
        "model.add(Dense(1, activation='sigmoid'))\n",
        "# compile the keras model\n",
        "model.compile(loss='binary_crossentropy', optimizer='adam', metrics=['accuracy'])\n",
        "# fit the keras model on the dataset\n",
        "model.fit(X, y, epochs=150)\n",
        "# evaluate the keras model\n",
        "_, accuracy = model.evaluate(X, y)\n",
        "print('Accuracy: %.2f' % (accuracy*100))"
      ]
    }
  ]
}